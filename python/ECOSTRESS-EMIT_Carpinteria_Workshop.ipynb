{
 "cells": [
  {
   "cell_type": "markdown",
   "id": "f016fa25-fe47-4ab8-be27-11211b81cb6a",
   "metadata": {},
   "source": [
    "# ECOSTRESS-EMIT Workshop Fall 2023 - Carpinteria Salt Marsh Analysis\n",
    "Gregory Halverson\n",
    "Jet Propulsion Laboratory, California Institute of Technology\n",
    "\n",
    "Claire Villanueva-Weeks\n",
    "Jet Propulsion Laboratory, California Institute of Technology\n",
    "\n",
    " This research was carried out at the Jet Propulsion Laboratory, California Institute of Technology, and was sponsored by ECOSTRESS and the National Aeronautics and Space Administration (80NM0018D0004). \n",
    "\n",
    " © 2023. All rights reserved.\n",
    " \n",
    " ## Summary\n",
    " In this notebook we will open an EMIT L2A Reflectance product file in NETCDF4 format and an ECOSTRESS L2 Land Surface Temperature product file in GEOTIFF format. We will demonstrate using specific bands to calculate NDVI and use holoviews to plot the EMIT spectra and calculated NDVI. We will also demonstrate opening and mapping the ECOSTRESS L2 Land Surface Temperature product. "
   ]
  },
  {
   "cell_type": "markdown",
   "id": "a3f862cd-e275-4b1d-ad37-f52bb7c2eb3a",
   "metadata": {
    "tags": []
   },
   "source": [
    "\n",
    "## Importing Libraries\n",
    "\n",
    "These are some built-in Python functions we need for this notebook, including functions for handling filenames and dates."
   ]
  },
  {
   "cell_type": "code",
   "execution_count": null,
   "id": "0e2e9d56-dc37-490c-99aa-dc1f3c76eda6",
   "metadata": {
    "tags": []
   },
   "outputs": [],
   "source": [
    "# !mamba install -q -y cartopy earthaccess geoviews rasterstats folium geopandas hvplot holoviews matplotlib netCDF4 numpy pandas rasterio rasterstats rioxarray seaborn scikit-image shapely xarray"
   ]
  },
  {
   "cell_type": "code",
   "execution_count": null,
   "id": "543203fc-b602-4745-9977-ac1811299bbc",
   "metadata": {
    "tags": []
   },
   "outputs": [],
   "source": [
    "import os, sys\n",
    "from os.path import join, abspath, basename, splitext\n",
    "from glob import glob\n",
    "from datetime import datetime, date, timedelta\n",
    "from zipfile import ZipFile\n",
    "import warnings\n",
    "warnings.filterwarnings(\"ignore\")"
   ]
  },
  {
   "cell_type": "markdown",
   "id": "3a72657e-26d7-46a1-8eef-5ac84049250d",
   "metadata": {},
   "source": [
    "We're using the `rioxarray` package for loading raster data from a GeoTIFF file, and we're importing it as `rxr`. We're using the `numpy` library to handle arrays, and we're importing it as `np`. We're using the `rasterio` package to subset the data."
   ]
  },
  {
   "cell_type": "code",
   "execution_count": null,
   "id": "e72d6de3-7493-416d-89d1-3866e699355b",
   "metadata": {
    "tags": []
   },
   "outputs": [],
   "source": [
    "import rioxarray as rxr\n",
    "import numpy as np\n",
    "import rasterio as rio"
   ]
  },
  {
   "cell_type": "markdown",
   "id": "98b6b9a9-5c3e-49ed-9195-159a7e59e1c8",
   "metadata": {},
   "source": [
    "We're using the `geopandas` library to load vector data from GeoJSON files, and we're importing it as `gpd`. We're using the `shapely` library to handle vector data and the `pyproj` library to handle projections."
   ]
  },
  {
   "cell_type": "code",
   "execution_count": null,
   "id": "ce6dd5cb-2a85-44a8-871f-8b80381b918d",
   "metadata": {
    "tags": []
   },
   "outputs": [],
   "source": [
    "import geopandas as gpd\n",
    "from shapely.geometry import Point, box\n",
    "from shapely.ops import transform\n",
    "from pyproj import Transformer"
   ]
  },
  {
   "cell_type": "markdown",
   "id": "68a91983-3b68-44d5-bc08-ced997a2d28a",
   "metadata": {},
   "source": [
    "We're using the `pandas` library to handle tables, and we're importing it as `pd`."
   ]
  },
  {
   "cell_type": "code",
   "execution_count": null,
   "id": "c672e6cd-9a0b-4c6c-af0b-4e8fe86c859e",
   "metadata": {
    "tags": []
   },
   "outputs": [],
   "source": [
    "import pandas as pd"
   ]
  },
  {
   "cell_type": "markdown",
   "id": "8f23b255-a35b-4ac2-a825-9a14644de982",
   "metadata": {},
   "source": [
    "We're using the `seaborn` library to produce our graphs, and we're importing it as `sns`. We're using the `hvplot` library to produce our maps. "
   ]
  },
  {
   "cell_type": "code",
   "execution_count": null,
   "id": "c6b8a5a9-5203-49e2-8ff6-31fb56edaeb7",
   "metadata": {
    "tags": []
   },
   "outputs": [],
   "source": [
    "import seaborn as sns\n",
    "import hvplot.xarray\n",
    "import hvplot.pandas"
   ]
  },
  {
   "cell_type": "code",
   "execution_count": null,
   "id": "e0bbc173-88ea-462f-8b8d-8c814e0baf70",
   "metadata": {},
   "outputs": [],
   "source": [
    "import earthaccess\n",
    "from osgeo import gdal\n",
    "import math\n",
    "import netCDF4 as nc"
   ]
  },
  {
   "cell_type": "markdown",
   "id": "1d71dc62-2238-418f-80ad-350095967ced",
   "metadata": {},
   "source": [
    "Import the `emit_tools` module and call use from emit_tools import emit_xarray\n",
    "help(emit_xarray) the help function to see how it can be used.\n",
    "\n",
    "> Note: this function currently works with L1B Radiance and L2A Reflectance Data."
   ]
  },
  {
   "cell_type": "code",
   "execution_count": null,
   "id": "ce981666-a60b-4a4b-88a1-d2e62b0831cc",
   "metadata": {
    "tags": []
   },
   "outputs": [],
   "source": [
    "sys.path.append('../modules/')\n",
    "from emit_tools import emit_xarray\n",
    "help(emit_xarray)"
   ]
  },
  {
   "cell_type": "markdown",
   "id": "25eb3cd0-7d75-448d-a027-86cf4905702f",
   "metadata": {},
   "source": [
    "\n",
    "## Defining Constants\n",
    "\n",
    "These constants define the dimensions of our figures. Feel free to adjust these to fit your display."
   ]
  },
  {
   "cell_type": "code",
   "execution_count": null,
   "id": "699d09bf-0551-4c6c-96b8-2a59f1e00fec",
   "metadata": {
    "tags": []
   },
   "outputs": [],
   "source": [
    "FIG_WIDTH_PX = 1080\n",
    "FIG_HEIGHT_PX = 720\n",
    "FIG_WIDTH_IN = 16\n",
    "FIG_HEIGHT_IN = 9\n",
    "FIG_ALPHA = 0.7\n",
    "BASEMAP = \"ESRI\"\n",
    "SEABORN_STYLE = \"whitegrid\"\n",
    "sns.set_style(SEABORN_STYLE)"
   ]
  },
  {
   "cell_type": "markdown",
   "id": "a6a3221b-0993-48af-9758-69d53289144c",
   "metadata": {},
   "source": [
    "This is the location of the ECOSTRESS and EMIT product files"
   ]
  },
  {
   "cell_type": "code",
   "execution_count": null,
   "id": "49d707ae-277b-4c5b-bcda-e4a78943a143",
   "metadata": {
    "tags": []
   },
   "outputs": [],
   "source": [
    "DATA_DIRECTORY = \"/home/jovyan/shared/ECOSTRESS-EMIT_data/data/\" # FIXME set this to the common path in OpenScapes \n",
    "print(f\"data directory: {DATA_DIRECTORY}\")"
   ]
  },
  {
   "cell_type": "markdown",
   "id": "3ffd7c69-e6d8-4490-ad93-9b7b714deb0e",
   "metadata": {},
   "source": [
    "## Loading and Mapping an ECOSTRESS LST granule"
   ]
  },
  {
   "cell_type": "markdown",
   "id": "211ec4c9-655c-45ea-8f33-c857f42f2dbe",
   "metadata": {},
   "source": [
    "First, let's trying opening a data layer from a product file. "
   ]
  },
  {
   "cell_type": "code",
   "execution_count": null,
   "id": "3592086d-09fc-4602-845f-cd1e90daa3d7",
   "metadata": {
    "tags": []
   },
   "outputs": [],
   "source": [
    "ECOSTRESS_fp = join(DATA_DIRECTORY, \"ECOv002_L2T_LSTE_26921_001_11SKU_20230405T190258_0710_01_LST.tif\")\n",
    "ECOSTRESS_fp"
   ]
  },
  {
   "cell_type": "markdown",
   "id": "6b8f5f3f-ee07-4521-8f15-47ff82ad4157",
   "metadata": {},
   "source": [
    "We're using `rioxarray` to open the surface temperature product on the 11SKU tile covering the Carpinteria Salt Marsh. We're passing the filename of the GeoTIFF file directly into `rioxarray`."
   ]
  },
  {
   "cell_type": "code",
   "execution_count": null,
   "id": "a191f017-1b03-429a-b0f5-470ead1506d2",
   "metadata": {
    "tags": []
   },
   "outputs": [],
   "source": [
    "LST_K_raster = rxr.open_rasterio(ECOSTRESS_fp).squeeze('band', drop=True)\n",
    "LST_K_raster"
   ]
  },
  {
   "cell_type": "markdown",
   "id": "db2c2609-91a0-498e-8d32-aef7f33ffb84",
   "metadata": {},
   "source": [
    "The `hvplot` package extends `xarray` to allow us to plot maps. We're reprojecting the raster geographic projection **EPSG 4326** to overlay on the basemap with a latitude and longitude graticule. We're using the `jet` color scheme to render temperature with a rainbow of colors with red meaning hot and blue meaning cool. We're setting the alpha to make the raster semi-transparent on top of the basemap. We're filtering out values lower than the 2% percentile and higher than the 98% percentile to make the variation in the image more visible.\n",
    "\n",
    "The temperatures in the `L2T_LSTE` product are given in Kelvin. To convert them to Celsius, we subtract 273.15."
   ]
  },
  {
   "cell_type": "code",
   "execution_count": null,
   "id": "3c0c98e9-7221-4c55-9107-d412f6659e77",
   "metadata": {
    "tags": []
   },
   "outputs": [],
   "source": [
    "LST_C_raster = LST_K_raster.copy()\n",
    "LST_C_raster.data = LST_K_raster.data - 273.15\n",
    "\n",
    "LST_C_map = LST_C_raster.rio.reproject(\"EPSG:4326\").hvplot.image(\n",
    "    geo=True,\n",
    "    cmap=\"jet\",\n",
    "    tiles=BASEMAP,\n",
    "    alpha=FIG_ALPHA,\n",
    "    width=FIG_WIDTH_PX,\n",
    "    height=FIG_HEIGHT_PX,\n",
    "    clim=(LST_C_raster.quantile(0.02), LST_C_raster.quantile(0.98)),\n",
    "    title=f\"{splitext(basename(ECOSTRESS_fp))[0]} Surface Temperature (Celsius)\"\n",
    ")\n",
    "\n",
    "LST_C_map = LST_C_map.options(xlabel=\"Longitude\", ylabel=\"Latitude\")\n",
    "LST_C_map"
   ]
  },
  {
   "cell_type": "markdown",
   "id": "70d1d89d-c684-4711-a729-909e5943157f",
   "metadata": {
    "tags": []
   },
   "source": [
    "\n",
    "## Loading an EMIT Reflectance Granule\n",
    "\n",
    "So now that weve opened up and visualized an ECOSTRESS collection 2 LST granule, lets try opening a data layer from the EMIT product file.\n",
    "\n",
    "EMIT L2A Reflectance Data are distributed in a non-orthocorrected spatially raw NetCDF4 (.nc) format. .nc files \n",
    "\n",
    "To open up the `.nc` file we will use the `netCDF4`, `xarray` and `emit_tools` libraries. "
   ]
  },
  {
   "cell_type": "code",
   "execution_count": null,
   "id": "696e0276-c29d-4366-9719-af218695a639",
   "metadata": {
    "tags": []
   },
   "outputs": [],
   "source": [
    "EMIT_fp = join(DATA_DIRECTORY, \"EMIT_L2A_RFL_001_20230405T190323_2309513_003.nc\")\n",
    "EMIT_fp"
   ]
  },
  {
   "cell_type": "markdown",
   "id": "89818b4a-808e-4ef3-8642-472ef88f7355",
   "metadata": {},
   "source": [
    "Opening the file with nc allows us to see file information and the different groups, theres reflectance which were concerned with, sensor band parameters, and location. "
   ]
  },
  {
   "cell_type": "code",
   "execution_count": null,
   "id": "7734a682-9e12-46cd-8cae-7920a529fc64",
   "metadata": {
    "tags": []
   },
   "outputs": [],
   "source": [
    "ds_nc = nc.Dataset(EMIT_fp)\n",
    "ds_nc"
   ]
  },
  {
   "cell_type": "markdown",
   "id": "85f1cad0-c88c-4df9-8e18-529edffde173",
   "metadata": {},
   "source": [
    "Now we will use the `emit_xarray` function from the `emit_tools` module wirh `ortho` set to `True` to orthorectify the L2A reflectance data and place it into an `xarray.Dataset`. \n",
    "\n",
    ">**For a detailed walkthrough of the orthorectification process using the GLT see section 2 of the How_to_Orthorectify.ipynb in the how-tos folder.**"
   ]
  },
  {
   "cell_type": "code",
   "execution_count": null,
   "id": "3a775c1a-0cbe-4b72-8457-e709e61c2b89",
   "metadata": {
    "tags": []
   },
   "outputs": [],
   "source": [
    "ds = emit_xarray(EMIT_fp,ortho=True)\n",
    "ds"
   ]
  },
  {
   "cell_type": "markdown",
   "id": "89903ea1-5323-475c-8222-f0726417cb60",
   "metadata": {},
   "source": [
    "## Visualizing EMIT Spectral and Spatial Data\n",
    "\n",
    "Here we picked out and mapped wavelengths nearest to 800 nm and 675 nm using the `.sel` function from `xarray` "
   ]
  },
  {
   "cell_type": "code",
   "execution_count": null,
   "id": "572e2874-c0d1-4f1e-84e5-14fea126b6e6",
   "metadata": {},
   "outputs": [],
   "source": [
    "ds.sel(wavelengths=800, method='nearest').hvplot.image(x='longitude', y='latitude',tiles=BASEMAP,cmap='viridis', aspect = 'equal', frame_width=400,title=f\"{splitext(basename(EMIT_fp))[0]} ~800 nm\") +\\\n",
    "    ds.sel(wavelengths=675, method='nearest').hvplot.image(x='longitude', y='latitude',tiles=BASEMAP,cmap='viridis', aspect = 'equal', frame_width=400,title=f\"{splitext(basename(EMIT_fp))[0]} ~675 nm\")"
   ]
  },
  {
   "cell_type": "markdown",
   "id": "a6bc0ed4-25a3-4bdc-adb2-3c6b943d55f5",
   "metadata": {},
   "source": [
    "These are the `nearest` to 800 nm and 675 nm wavelengths, they can be used to calculate the NDVI using a ratio of the difference between between the wavelengths to the sum of the wavelengths.NDVI is a metric by which we can estimate vegetation greenness."
   ]
  },
  {
   "cell_type": "code",
   "execution_count": null,
   "id": "c9616fc6-7452-4516-b01e-7924f7578698",
   "metadata": {},
   "outputs": [],
   "source": [
    "NDVI = (ds.sel(wavelengths=800, method='nearest') - ds.sel(wavelengths=675, method='nearest'))/(ds.sel(wavelengths=800, method='nearest') + ds.sel(wavelengths=675, method='nearest'))\n",
    "NDVI.hvplot.image(\n",
    "    x='longitude', \n",
    "    y='latitude',\n",
    "    width=FIG_WIDTH_PX,\n",
    "    height=FIG_HEIGHT_PX,\n",
    "    tiles=BASEMAP,\n",
    "    cmap='RdYlGn', \n",
    "    aspect = 'equal', \n",
    "    title=f\"{splitext(basename(EMIT_fp))[0]} Vegetation Index\")"
   ]
  },
  {
   "cell_type": "markdown",
   "id": "2106fa2a-61ae-461f-9686-7210f8c1343a",
   "metadata": {},
   "source": [
    "## Isolating Our Region of Interest \n",
    "\n",
    "Our ROI is the Carpinteria Salt Marsh Habitat, which is a marsh reserve here in Southern California that is home to many different species of plants and animals (more information- https://carpinteria.ucnrs.org/). Tomorrow when we take a fieldtrip there where there will be a guided tour where we will be learning more about the Carpinteria Salt Marsh and its ecology. \n",
    "\n",
    "To clip the raster image to the extent of the vector dataset, we want to subset the raster to the bounds of the vector dataset. This dataset is included here in GeoJSON format, which we'll load in as a geodatagrame using the `geopandas` package."
   ]
  },
  {
   "cell_type": "code",
   "execution_count": null,
   "id": "8d2167a3-8565-4297-a2f6-40adfd7c1e26",
   "metadata": {},
   "outputs": [],
   "source": [
    "landcoverfile = join(DATA_DIRECTORY,\"landcover.geojson\")\n",
    "landcover_latlon = gpd.read_file(landcoverfile)\n",
    "\n",
    "landcover_latlon"
   ]
  },
  {
   "cell_type": "markdown",
   "id": "75b504c1-5cd5-4e14-9ab7-debc8cbe0221",
   "metadata": {},
   "source": [
    "To align this vector dataset with the raster datasets, we need to project it to the UTM projection used for the ECOSTRESS rasters."
   ]
  },
  {
   "cell_type": "code",
   "execution_count": null,
   "id": "9ad7fb72-e13d-4db6-98b0-8a76f4773cf4",
   "metadata": {
    "tags": []
   },
   "outputs": [],
   "source": [
    "LST_raster = LST_K_raster.copy()\n",
    "landcover_UTM = landcover_latlon.to_crs(LST_raster.rio.crs)\n",
    "\n",
    "landcover_UTM"
   ]
  },
  {
   "cell_type": "markdown",
   "id": "733c6cb0-34e8-48e7-8878-ffd1b24fcb74",
   "metadata": {},
   "source": [
    "This vector dataset contains polygons classifying the surface of the Carpinteria Salt Marsh into channel, salt flat, upland, pan, and marsh. You can see that this vector dataset contains 5 polygons that classify the Carpinteria Salt Marhs the Marsh into channel, salt flat, upland, pan, and marsh."
   ]
  },
  {
   "cell_type": "code",
   "execution_count": null,
   "id": "22255407-bde7-4604-9875-7d49cea72f92",
   "metadata": {
    "tags": []
   },
   "outputs": [],
   "source": [
    "landcover_colors = {\n",
    "    \"channel\": \"blue\",\n",
    "    \"marsh\": \"yellow\",\n",
    "    \"pan\": \"green\",\n",
    "    \"salt flat\": \"white\",\n",
    "    \"upland\": \"brown\"\n",
    "}\n",
    "\n",
    "landcover_map = landcover_latlon.to_crs(\"EPSG:4326\").hvplot.polygons(\n",
    "    geo=True,\n",
    "    color=landcover_UTM[\"type\"].apply(lambda type: landcover_colors[type]),\n",
    "    tiles=BASEMAP,\n",
    "    alpha=FIG_ALPHA,\n",
    "    width=FIG_WIDTH_PX,\n",
    "    height=FIG_HEIGHT_PX,\n",
    "    title=\"Carpinteria Salt Marsh Habitat Polygons\"\n",
    ")\n",
    "\n",
    "landcover_map = landcover_map.options(xlabel=\"Longitude\", ylabel=\"Latitude\")\n",
    "landcover_map"
   ]
  },
  {
   "cell_type": "markdown",
   "id": "382d819d-48c4-455f-b729-09d5304f9036",
   "metadata": {
    "tags": []
   },
   "source": [
    "Now we can use the `clip` function from `rasterio` to mask out a subset of the the LST and NDVI datasets to the extent of the polygons from the vector dataset. Setting `all_touched` to `True` will include pixels that intersect with the edges of the polygons."
   ]
  },
  {
   "cell_type": "code",
   "execution_count": null,
   "id": "149e364f-c665-4f8d-a952-d89fbbeb74a6",
   "metadata": {
    "tags": []
   },
   "outputs": [],
   "source": [
    "LST_clip = LST_raster.rio.clip(landcover_latlon.geometry.values,landcover_latlon.crs, all_touched=True)\n",
    "LST_map = LST_clip.hvplot.image(\n",
    "    cmap='jet',\n",
    "    alpha=FIG_ALPHA,\n",
    "    width=FIG_WIDTH_PX,\n",
    "    height=FIG_HEIGHT_PX,\n",
    "    title = \"Carpinteria Salt Marsh Surface Temperature (Celsius)\"\n",
    ") * landcover_UTM.hvplot(fill_color='none')\n",
    "\n",
    "LST_map = LST_map.options(xlabel=\"Longitude\", ylabel=\"Latitude\")\n",
    "\n",
    "LST_map"
   ]
  },
  {
   "cell_type": "code",
   "execution_count": null,
   "id": "176a5d0a-4160-432f-b332-e78724e39136",
   "metadata": {
    "tags": []
   },
   "outputs": [],
   "source": [
    "NDVI_clip = NDVI.rio.clip(landcover_latlon.geometry.values,landcover_latlon.crs, all_touched=True)\n",
    "NDVI_map = NDVI_clip.hvplot.image(\n",
    "    cmap='RdYlGn',\n",
    "    alpha=FIG_ALPHA,\n",
    "    width=FIG_WIDTH_PX,\n",
    "    height=FIG_HEIGHT_PX,\n",
    "    title = \"Carpinteria Salt Marsh Vegetation Index\"\n",
    ") * landcover_latlon.hvplot(fill_color='none')\n",
    "\n",
    "NDVI_map = NDVI_map.options(xlabel=\"Longitude\", ylabel=\"Latitude\")\n",
    "\n",
    "NDVI_map"
   ]
  },
  {
   "cell_type": "markdown",
   "id": "c579695d-6f41-4ca6-8a76-fd7cc4ee11df",
   "metadata": {},
   "source": [
    "Here's another way we can visualize them, we can map them side by side laid over a satellite basemap, also setting the `alpha` to a lower value to increase transparency of the raster datasets"
   ]
  },
  {
   "cell_type": "code",
   "execution_count": null,
   "id": "44d48ed9-7333-4cf7-9f4d-31a7cdcf9c5e",
   "metadata": {
    "tags": []
   },
   "outputs": [],
   "source": [
    "LSTmap1 = LST_clip.hvplot.image(\n",
    "    tiles=BASEMAP,\n",
    "    cmap='jet',\n",
    "    alpha=.6,\n",
    "    title = \"Carpinteria Salt Marsh Surface Temperature (Celsius)\"\n",
    ")\n",
    "\n",
    "NDVImap1 = NDVI_clip.hvplot.image(\n",
    "    tiles=BASEMAP,\n",
    "    cmap='RdYlGn',\n",
    "    alpha=.6,\n",
    "    title = \"Carpinteria Salt Marsh Vegetation Index\"\n",
    ")\n",
    "\n",
    "LSTmap1.options(xlabel=\"Longitude\", ylabel=\"Latitude\")+NDVImap1.options(xlabel=\"Longitude\", ylabel=\"Latitude\")"
   ]
  }
 ],
 "metadata": {
  "kernelspec": {
   "display_name": "Python 3 (ipykernel)",
   "language": "python",
   "name": "python3"
  },
  "language_info": {
   "codemirror_mode": {
    "name": "ipython",
    "version": 3
   },
   "file_extension": ".py",
   "mimetype": "text/x-python",
   "name": "python",
   "nbconvert_exporter": "python",
   "pygments_lexer": "ipython3",
   "version": "3.10.12"
  }
 },
 "nbformat": 4,
 "nbformat_minor": 5
}
